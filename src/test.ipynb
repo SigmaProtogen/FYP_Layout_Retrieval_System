{
 "cells": [
  {
   "cell_type": "code",
   "execution_count": 3,
   "metadata": {},
   "outputs": [],
   "source": [
    "import layoutparser as lp\n",
    "model = lp.Detectron2LayoutModel('lp://PubLayNet/mask_rcnn_R_50_FPN_3x/config')"
   ]
  },
  {
   "cell_type": "code",
   "execution_count": 14,
   "metadata": {},
   "outputs": [
    {
     "name": "stdout",
     "output_type": "stream",
     "text": [
      "<PIL.Image.Image image mode=RGB size=2550x3300 at 0x1B92B3471D0>\n"
     ]
    }
   ],
   "source": [
    "import pymupdf\n",
    "from PIL import Image\n",
    "\n",
    "doc = pymupdf.open(\"../data/1706.03762.pdf\")\n",
    "page = doc[1].get_pixmap(dpi=300)\n",
    "image = Image.frombytes(\"RGB\", (page.width, page.height), page.samples)\n",
    "print(image)\n",
    "\n"
   ]
  },
  {
   "cell_type": "code",
   "execution_count": null,
   "metadata": {},
   "outputs": [],
   "source": [
    "layout = model.detect(image)\n",
    "lp.draw_box(image, layout)"
   ]
  },
  {
   "cell_type": "code",
   "execution_count": null,
   "metadata": {},
   "outputs": [],
   "source": []
  }
 ],
 "metadata": {
  "kernelspec": {
   "display_name": ".venv",
   "language": "python",
   "name": "python3"
  },
  "language_info": {
   "codemirror_mode": {
    "name": "ipython",
    "version": 3
   },
   "file_extension": ".py",
   "mimetype": "text/x-python",
   "name": "python",
   "nbconvert_exporter": "python",
   "pygments_lexer": "ipython3",
   "version": "3.12.7"
  }
 },
 "nbformat": 4,
 "nbformat_minor": 2
}
